{
 "cells": [
  {
   "attachments": {},
   "cell_type": "markdown",
   "metadata": {},
   "source": [
    "# The problem\n",
    "\n",
    "Given an image represented by an NxN matrix, where each pixel in the image is 4 bytes, write a method to rotate the image by 90 degrees. Can you do this in place?\n",
    "\n",
    "## Approach\n",
    "\n",
    "Rotate it layer by layer. Use a offset to select n_th element."
   ]
  },
  {
   "cell_type": "code",
   "execution_count": 1,
   "metadata": {},
   "outputs": [],
   "source": [
    "def print_matrix(matrix):\n",
    "    for r in matrix:\n",
    "        print('\\t'.join([str(c) for c in r]))"
   ]
  },
  {
   "cell_type": "code",
   "execution_count": 2,
   "metadata": {},
   "outputs": [
    {
     "name": "stdout",
     "output_type": "stream",
     "text": [
      "Matrix before rotation:\n",
      "1\t2\t3\n",
      "4\t5\t6\n",
      "7\t8\t9\n",
      "\n",
      "Matrix after rotation:\n",
      "7\t4\t1\n",
      "8\t5\t2\n",
      "9\t6\t3\n"
     ]
    }
   ],
   "source": [
    "from typing import List\n",
    "\n",
    "\n",
    "def rotate_matrix(matrix: List[List[int]]) -> None:\n",
    "    left, right = 0, len(matrix) - 1\n",
    "\n",
    "    while left < right:\n",
    "        top, down = left, right\n",
    "        for i in range(right - left):\n",
    "            temp = matrix[top][left+i]\n",
    "\n",
    "            matrix[top][left+i] = matrix[down-i][left]\n",
    "            matrix[down-i][left] = matrix[down][right-i]\n",
    "            matrix[down][right-i] = matrix[top+i][right]\n",
    "            matrix[top+i][right] = temp\n",
    "\n",
    "        left += 1\n",
    "        right -= 1\n",
    "\n",
    "\n",
    "matrix = [\n",
    "    [1, 2, 3],\n",
    "    [4, 5, 6],\n",
    "    [7, 8, 9]\n",
    "]\n",
    "print(f'Matrix before rotation:')\n",
    "print_matrix(matrix)\n",
    "\n",
    "rotate_matrix(matrix)\n",
    "print(f'\\nMatrix after rotation:')\n",
    "print_matrix(matrix)\n"
   ]
  },
  {
   "cell_type": "code",
   "execution_count": 3,
   "metadata": {},
   "outputs": [
    {
     "name": "stdout",
     "output_type": "stream",
     "text": [
      "Matrix before rotation:\n",
      "1\t2\t3\t4\n",
      "5\t6\t7\t8\n",
      "9\t10\t11\t12\n",
      "13\t14\t15\t16\n",
      "\n",
      "Matrix after rotation:\n",
      "13\t9\t5\t1\n",
      "14\t10\t6\t2\n",
      "15\t11\t7\t3\n",
      "16\t12\t8\t4\n"
     ]
    }
   ],
   "source": [
    "matrix = [\n",
    "    [1, 2, 3, 4],\n",
    "    [5, 6, 7, 8], \n",
    "    [9, 10, 11, 12],\n",
    "    [13, 14, 15, 16]\n",
    "]\n",
    "print(f'Matrix before rotation:')\n",
    "print_matrix(matrix)\n",
    "\n",
    "rotate_matrix(matrix)\n",
    "print(f'\\nMatrix after rotation:')\n",
    "print_matrix(matrix)"
   ]
  }
 ],
 "metadata": {
  "kernelspec": {
   "display_name": "gen",
   "language": "python",
   "name": "python3"
  },
  "language_info": {
   "codemirror_mode": {
    "name": "ipython",
    "version": 3
   },
   "file_extension": ".py",
   "mimetype": "text/x-python",
   "name": "python",
   "nbconvert_exporter": "python",
   "pygments_lexer": "ipython3",
   "version": "3.8.13"
  },
  "orig_nbformat": 4
 },
 "nbformat": 4,
 "nbformat_minor": 2
}

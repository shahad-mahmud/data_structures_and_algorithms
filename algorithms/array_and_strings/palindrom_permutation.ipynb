{
 "cells": [
  {
   "attachments": {},
   "cell_type": "markdown",
   "metadata": {},
   "source": [
    "# The problem\n",
    "\n",
    "Given a string, write a function to check if it is a permutation of a palindrome. A palindrome is a word or phrase that is the same forwards and backwards. A permutation is a rearrangement of letters. The palindrome does not need to be limited to just dictionary words.\n",
    "\n",
    "- Sample input: Tact Coa\n",
    "- Sample output: True\n",
    "\n",
    "## Details to observe\n",
    "\n",
    "- Is case sensitive?\n",
    "- Does whitespace matter?\n",
    "\n",
    "## Approach 1: Character count\n",
    "\n",
    "If a string is palindrome, each character counts must be even, except the center character for odd length palindrome. So, we can develope a two pass algorithm where in the first pass we will count the characters and in the second pass we will check the aforementioned condition."
   ]
  },
  {
   "cell_type": "code",
   "execution_count": 7,
   "metadata": {},
   "outputs": [
    {
     "name": "stdout",
     "output_type": "stream",
     "text": [
      "True\n",
      "False\n",
      "True\n",
      "True\n",
      "True\n"
     ]
    }
   ],
   "source": [
    "def is_palindrome_permutation(s: str) -> bool:\n",
    "    counts = {}\n",
    "    for c in s:\n",
    "        if c == ' ':\n",
    "            continue\n",
    "    \n",
    "        counts[c.lower()] = counts.get(c.lower(), 0) + 1\n",
    "    \n",
    "    single_odd = False\n",
    "    for _, count in counts.items():\n",
    "        if count % 2:\n",
    "            if single_odd:\n",
    "                return False\n",
    "            single_odd = True\n",
    "    \n",
    "    return True\n",
    "\n",
    "print(is_palindrome_permutation(\"Tact Coa\"))\n",
    "print(is_palindrome_permutation(\"anc\"))\n",
    "print(is_palindrome_permutation(\"abcdabcd\"))\n",
    "print(is_palindrome_permutation(\"aba\"))\n",
    "print(is_palindrome_permutation(\"aBb  a\"))"
   ]
  },
  {
   "attachments": {},
   "cell_type": "markdown",
   "metadata": {},
   "source": [
    "We can modify the two pass algorithm to one pass algorithm. While counting the characters, we can keep a count of number of odd count characters. \n",
    "\n",
    "It is not necessary that this would be more optimal. The time is still `O(n)` and we are doing some extra things for each character. So it can turn out to be slower!"
   ]
  },
  {
   "cell_type": "code",
   "execution_count": 4,
   "metadata": {},
   "outputs": [
    {
     "name": "stdout",
     "output_type": "stream",
     "text": [
      "True\n",
      "False\n",
      "True\n",
      "True\n",
      "True\n"
     ]
    }
   ],
   "source": [
    "def is_palindrome_permutation(s: str) -> bool:\n",
    "    counts = {}\n",
    "    char_counts, odd_counts = 0, 0\n",
    "    \n",
    "    for c in s:\n",
    "        c = c.lower()\n",
    "        if c == ' ':\n",
    "            continue\n",
    "    \n",
    "        counts[c] = counts.get(c, 0) + 1\n",
    "        \n",
    "        if counts[c] % 2:\n",
    "            odd_counts += 1\n",
    "        else:\n",
    "            odd_counts -= 1\n",
    "        char_counts += 1\n",
    "    \n",
    "    return odd_counts <= 1\n",
    "\n",
    "print(is_palindrome_permutation(\"Tact Coa\"))\n",
    "print(is_palindrome_permutation(\"anc\"))\n",
    "print(is_palindrome_permutation(\"abcdabcd\"))\n",
    "print(is_palindrome_permutation(\"aba\"))\n",
    "print(is_palindrome_permutation(\"aBb  a\"))"
   ]
  }
 ],
 "metadata": {
  "kernelspec": {
   "display_name": "gen",
   "language": "python",
   "name": "python3"
  },
  "language_info": {
   "codemirror_mode": {
    "name": "ipython",
    "version": 3
   },
   "file_extension": ".py",
   "mimetype": "text/x-python",
   "name": "python",
   "nbconvert_exporter": "python",
   "pygments_lexer": "ipython3",
   "version": "3.8.13"
  },
  "orig_nbformat": 4
 },
 "nbformat": 4,
 "nbformat_minor": 2
}

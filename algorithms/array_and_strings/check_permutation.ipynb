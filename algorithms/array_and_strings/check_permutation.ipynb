{
 "cells": [
  {
   "attachments": {},
   "cell_type": "markdown",
   "metadata": {},
   "source": [
    "# The problem\n",
    "\n",
    "Given two strings, write a method to decide if one is a permutation of the other.\n",
    "\n",
    "## Details to observe\n",
    "\n",
    "- Is permutation comparison case sensitive?\n",
    "- Is white space sensitive, i.e. are \"abc   \" and \"abc\" same?\n",
    "- Strings of different lengths can not be permutations.\n",
    "\n",
    "## Approach 1: Character count\n",
    "\n",
    "Count the characters of both strings. If the character counts match exactly, these can be permutations of one another."
   ]
  },
  {
   "cell_type": "code",
   "execution_count": 1,
   "metadata": {},
   "outputs": [
    {
     "name": "stdout",
     "output_type": "stream",
     "text": [
      "True\n",
      "False\n",
      "False\n"
     ]
    }
   ],
   "source": [
    "def is_permutation(s1: str, s2: str) -> bool:\n",
    "    counter1, counter2 = {}, {}\n",
    "\n",
    "    for c in s1:\n",
    "        if c in counter1:\n",
    "            counter1[c] += 1\n",
    "        else:\n",
    "            counter1[c] = 1\n",
    "    \n",
    "    for c in s2:\n",
    "        if c in counter2:\n",
    "            counter2[c] += 1\n",
    "        else:\n",
    "            counter2[c] = 1\n",
    "    \n",
    "\n",
    "    if len(counter1) != len(counter2):\n",
    "        return False\n",
    "    \n",
    "    for k, c in counter1.items():\n",
    "        if k not in counter2 or counter2[k] != c:\n",
    "            return False\n",
    "    \n",
    "    return True\n",
    "\n",
    "print(is_permutation('anc', 'nca'))\n",
    "print(is_permutation('ab', 'axd'))\n",
    "print(is_permutation('xyz', 'abc'))"
   ]
  },
  {
   "attachments": {},
   "cell_type": "markdown",
   "metadata": {},
   "source": [
    "## Approach 2: Sorting\n",
    "\n",
    "Sort the strings and check if they are the same."
   ]
  },
  {
   "cell_type": "code",
   "execution_count": 2,
   "metadata": {},
   "outputs": [
    {
     "name": "stdout",
     "output_type": "stream",
     "text": [
      "True\n",
      "False\n",
      "False\n"
     ]
    }
   ],
   "source": [
    "def sort(s: str) -> str:\n",
    "    s = sorted(s)\n",
    "\n",
    "    return ''.join(s)\n",
    "\n",
    "\n",
    "def is_permutation(s1: str, s2: str) -> bool:\n",
    "    if len(s1) != len(s2):\n",
    "        return False\n",
    "\n",
    "    s1 = sort(s1)\n",
    "    s2 = sort(s2)\n",
    "\n",
    "    return s1 == s2\n",
    "\n",
    "\n",
    "print(is_permutation('anc', 'nca'))\n",
    "print(is_permutation('ab', 'axd'))\n",
    "print(is_permutation('xyz', 'abc'))\n"
   ]
  }
 ],
 "metadata": {
  "kernelspec": {
   "display_name": "gen",
   "language": "python",
   "name": "python3"
  },
  "language_info": {
   "codemirror_mode": {
    "name": "ipython",
    "version": 3
   },
   "file_extension": ".py",
   "mimetype": "text/x-python",
   "name": "python",
   "nbconvert_exporter": "python",
   "pygments_lexer": "ipython3",
   "version": "3.8.13"
  },
  "orig_nbformat": 4
 },
 "nbformat": 4,
 "nbformat_minor": 2
}

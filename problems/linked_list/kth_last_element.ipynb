{
 "cells": [
  {
   "attachments": {},
   "cell_type": "markdown",
   "metadata": {},
   "source": [
    "# The problem\n",
    "\n",
    "Implement an algorithm to find the kth to last element of a singly linked list."
   ]
  },
  {
   "cell_type": "code",
   "execution_count": 1,
   "metadata": {},
   "outputs": [],
   "source": [
    "class Node(object):\n",
    "    def __init__(self, value=None, next=None):\n",
    "        self.value = value\n",
    "        self.next = next\n",
    "\n",
    "    def __str__(self) -> str:\n",
    "        s = self.__class__.__name__ + \"{\"\n",
    "        s += f\"value: {self.value}, next: {self.next}\"\n",
    "        s += \"}\"\n",
    "\n",
    "        return s\n",
    "\n",
    "\n",
    "class SinglyLinkedList(object):\n",
    "    def __init__(self, value: object = None, node: Node = None) -> None:\n",
    "        if value and node:\n",
    "            raise ValueError(\n",
    "                \"Either value or node can be set at the initialization but found both set.\")\n",
    "\n",
    "        self._size = 0\n",
    "\n",
    "        if value:\n",
    "            self._cursor = Node(value)\n",
    "            self._size += 1\n",
    "        elif node:\n",
    "            self._cursor = node\n",
    "            self._size += 1\n",
    "        else:\n",
    "            self._cursor = None\n",
    "\n",
    "        self._head = self._cursor\n",
    "\n",
    "    def add(self, value: object) -> None:\n",
    "        \"\"\"\n",
    "        Add an object at the end of the list.\n",
    "\n",
    "        args:\n",
    "            value (object): The object to add in the list\n",
    "        \"\"\"\n",
    "        if self._head is None:\n",
    "            self._cursor = Node(value)\n",
    "            self._head = self._cursor\n",
    "        else:\n",
    "            temp = Node(value)\n",
    "            self._cursor.next = temp\n",
    "            self._cursor = temp\n",
    "\n",
    "        self._size += 1\n",
    "\n",
    "    def insert(self, position: int, value: object) -> None:\n",
    "        \"\"\"\n",
    "        Insert an object at the given position of the list. If the position is equal to the\n",
    "        length of the list, it is similar to adding an object at the end.\n",
    "\n",
    "        args:\n",
    "            position (int): The position at which the object will be inserted.\n",
    "            value (object): The object to add in the list\n",
    "        \"\"\"\n",
    "        assert position <= self._size, (\"Position must be less than or equal to the length of \"\n",
    "                                        \"the list.\")\n",
    "\n",
    "        if position == self._size:\n",
    "            self.add(value)\n",
    "        elif position == 0:\n",
    "            temp = Node(value)\n",
    "            temp.next = self._head\n",
    "\n",
    "            self._head = temp\n",
    "            self._size += 1\n",
    "        else:\n",
    "            i, current, previous = 0, self._head.next, self._head\n",
    "\n",
    "            while i < position-1 and current:\n",
    "                current = current.next\n",
    "                previous = previous.next\n",
    "                i += 1\n",
    "\n",
    "            temp = Node(value)\n",
    "            temp.next = current\n",
    "            previous.next = temp\n",
    "\n",
    "            self._size += 1\n",
    "\n",
    "    def remove(self, position: int) -> None:\n",
    "        \"\"\"\n",
    "        Remove an object from the given position in the list.\n",
    "\n",
    "        args:\n",
    "            position (int): The postion from which the object will be removed\n",
    "        \"\"\"\n",
    "        assert position < self._size, \"Position must be less than the length of the list.\"\n",
    "\n",
    "        if position == 0:\n",
    "            self._head = self._head.next\n",
    "        else:\n",
    "            i, previous, current = 1, self._head, self._head.next\n",
    "\n",
    "            while i < position and current:\n",
    "                previous = previous.next\n",
    "                current = current.next\n",
    "                i += 1\n",
    "\n",
    "            previous.next = current.next if current else None\n",
    "            del current  # prevent memory leak\n",
    "\n",
    "    def is_empty(self) -> bool:\n",
    "        return self._size == 0\n",
    "\n",
    "    def size(self) -> int:\n",
    "        return self._size\n",
    "\n",
    "    def __str__(self) -> str:\n",
    "        s = self.__class__.__name__ + \"(\"\n",
    "        s += str(self._head)\n",
    "        s += \")\"\n",
    "\n",
    "        return s\n"
   ]
  },
  {
   "cell_type": "code",
   "execution_count": 2,
   "metadata": {},
   "outputs": [
    {
     "name": "stdout",
     "output_type": "stream",
     "text": [
      "SinglyLinkedList(Node{value: 2, next: Node{value: 4, next: Node{value: 5, next: Node{value: 6, next: Node{value: 8, next: Node{value: 10, next: Node{value: 23, next: Node{value: 54, next: Node{value: 65, next: Node{value: 80, next: None}}}}}}}}}})\n"
     ]
    }
   ],
   "source": [
    "linked_list = SinglyLinkedList(2)\n",
    "linked_list.add(4)\n",
    "linked_list.add(5)\n",
    "linked_list.add(6)\n",
    "linked_list.add(8)\n",
    "linked_list.add(10)\n",
    "linked_list.add(23)\n",
    "linked_list.add(54)\n",
    "linked_list.add(65)\n",
    "linked_list.add(80)\n",
    "\n",
    "print(linked_list)\n"
   ]
  },
  {
   "attachments": {},
   "cell_type": "markdown",
   "metadata": {},
   "source": [
    "## Approach 1: Using two pointers\n",
    "\n",
    "- Initialize two pointer at the head element.\n",
    "- For i in range(0, k), traverse a pointer to the next nodes.\n",
    "- Now while the pointer is not null, traverse both pointers.\n",
    "- Return the value of the other pointer."
   ]
  },
  {
   "cell_type": "code",
   "execution_count": 3,
   "metadata": {},
   "outputs": [
    {
     "name": "stdout",
     "output_type": "stream",
     "text": [
      "54\n",
      "10\n"
     ]
    }
   ],
   "source": [
    "def last_kth_element(head: Node, k: int):\n",
    "    assert k >= 1\n",
    "\n",
    "    sp, fp = head, head\n",
    "\n",
    "    while k and fp:\n",
    "        fp = fp.next\n",
    "        k -= 1\n",
    "\n",
    "    assert k == 0, \"Value provided for k must be less than or equal to the length of the list.\"\n",
    "\n",
    "    while fp:\n",
    "        sp = sp.next\n",
    "        fp = fp.next\n",
    "\n",
    "    return sp.value\n",
    "\n",
    "\n",
    "print(last_kth_element(linked_list._head, 3))\n",
    "print(last_kth_element(linked_list._head, 5))\n"
   ]
  },
  {
   "attachments": {},
   "cell_type": "markdown",
   "metadata": {},
   "source": [
    "## Approach 2: Pre-calculate the size\n",
    "\n",
    "Calculate the size of the list and return the desired element."
   ]
  },
  {
   "cell_type": "code",
   "execution_count": 4,
   "metadata": {},
   "outputs": [
    {
     "name": "stdout",
     "output_type": "stream",
     "text": [
      "54\n",
      "10\n"
     ]
    }
   ],
   "source": [
    "def last_kth_element(head: Node, k: int):\n",
    "    assert k >= 1\n",
    "\n",
    "    sp = head\n",
    "    size = 0\n",
    "\n",
    "    while sp:\n",
    "        sp = sp.next\n",
    "        size += 1\n",
    "\n",
    "    assert k <= size, \"Value provided for k must be less than or equal to the length of the list.\"\n",
    "\n",
    "    sp = head\n",
    "    to_traverse = size - k\n",
    "    i = 0\n",
    "    while i < to_traverse and sp:\n",
    "        sp = sp.next\n",
    "        i+=1\n",
    "\n",
    "    return sp.value\n",
    "\n",
    "\n",
    "print(last_kth_element(linked_list._head, 3))\n",
    "print(last_kth_element(linked_list._head, 5))"
   ]
  },
  {
   "attachments": {},
   "cell_type": "markdown",
   "metadata": {},
   "source": [
    "## Approach 3: Recursive\n",
    "\n",
    "Recursively go to the last element and return the index as 0. Add 1 to the index at each parent call."
   ]
  },
  {
   "cell_type": "code",
   "execution_count": 5,
   "metadata": {},
   "outputs": [
    {
     "name": "stdout",
     "output_type": "stream",
     "text": [
      "54\n",
      "10\n"
     ]
    }
   ],
   "source": [
    "def last_kth_element(head: Node, k: int):\n",
    "    if not head:\n",
    "        return (0, None)\n",
    "    \n",
    "    index, value = last_kth_element(head.next, k)\n",
    "    index += 1\n",
    "    \n",
    "    if index == k:\n",
    "        value = head.value\n",
    "    \n",
    "    return (index, value)\n",
    "\n",
    "print(last_kth_element(linked_list._head, 3)[1])\n",
    "print(last_kth_element(linked_list._head, 5)[1])"
   ]
  }
 ],
 "metadata": {
  "kernelspec": {
   "display_name": "gen",
   "language": "python",
   "name": "python3"
  },
  "language_info": {
   "codemirror_mode": {
    "name": "ipython",
    "version": 3
   },
   "file_extension": ".py",
   "mimetype": "text/x-python",
   "name": "python",
   "nbconvert_exporter": "python",
   "pygments_lexer": "ipython3",
   "version": "3.8.13"
  },
  "orig_nbformat": 4
 },
 "nbformat": 4,
 "nbformat_minor": 2
}

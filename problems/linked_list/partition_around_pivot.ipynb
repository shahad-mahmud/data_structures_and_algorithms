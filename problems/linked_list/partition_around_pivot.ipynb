{
 "cells": [
  {
   "attachments": {},
   "cell_type": "markdown",
   "metadata": {},
   "source": [
    "# The problem\n",
    "\n",
    "Write code to partition a linked list around a value x, such that all nodes less than x come before all nodes greater than or equal to x. If x is contained within the list, the values of x only need to be after the elements less than x.The partition element x can appear anywhere in the \"right partition\"; it does not need to appear between the left and right partitions.\n",
    "\n",
    "Example: <br>\n",
    "Input: 3 -> 5 -> 8 -> 5 -> 10 -> 2 -> 1 [partition= 5] <br>\n",
    "Output: 3 -> 1 -> 2 -> 10 -> 5 -> 5 -> 8\n",
    "\n",
    "## Approach 1: Two lists\n",
    "\n",
    "Use two lists. One for keeping the less than x values and another is to keep the greater than or equal to x values. After iterating, merge the lists. The merge operation will take O(1) time. This approach will keep the relative order same."
   ]
  },
  {
   "cell_type": "code",
   "execution_count": 8,
   "metadata": {},
   "outputs": [
    {
     "name": "stdout",
     "output_type": "stream",
     "text": [
      "[2, 5, 23, 6, 10, 8, 65, 54, 4, 80]\n"
     ]
    }
   ],
   "source": [
    "from linked_list import SinglyLinkedList, Node\n",
    "\n",
    "linked_list = SinglyLinkedList(2)\n",
    "linked_list.add(5)\n",
    "linked_list.add(23)\n",
    "linked_list.add(6)\n",
    "linked_list.add(10)\n",
    "linked_list.add(8)\n",
    "linked_list.add(65)\n",
    "linked_list.add(54)\n",
    "linked_list.add(4)\n",
    "linked_list.add(80)\n",
    "\n",
    "print(linked_list.to_list())"
   ]
  },
  {
   "cell_type": "code",
   "execution_count": 5,
   "metadata": {},
   "outputs": [],
   "source": [
    "def partition_around_pivot(head, pivot_value):\n",
    "    left_list = SinglyLinkedList()\n",
    "    right_list = SinglyLinkedList()\n",
    "    \n",
    "    iterator = head\n",
    "    while iterator:\n",
    "        if iterator.value < pivot_value:\n",
    "            left_list.add(iterator.value)\n",
    "        else:\n",
    "            right_list.add(iterator.value)\n",
    "        \n",
    "        iterator = iterator.next\n",
    "    \n",
    "    left_list._cursor.next = right_list._head\n",
    "    return left_list"
   ]
  },
  {
   "cell_type": "code",
   "execution_count": 7,
   "metadata": {},
   "outputs": [
    {
     "name": "stdout",
     "output_type": "stream",
     "text": [
      "[2, 5, 23, 6, 10, 8, 65, 54, 4, 80]\n",
      "[2, 5, 6, 4, 23, 10, 8, 65, 54, 80]\n"
     ]
    }
   ],
   "source": [
    "print(linked_list.to_list())\n",
    "print(partition_around_pivot(linked_list._head, 8).to_list())"
   ]
  },
  {
   "attachments": {},
   "cell_type": "markdown",
   "metadata": {},
   "source": [
    "## Approach 2: Grow a list both side\n",
    "\n",
    "Use a single list. Grow it from both side. Add smaller elements on left and update head. Add other elements on right and update tail."
   ]
  },
  {
   "cell_type": "code",
   "execution_count": 9,
   "metadata": {},
   "outputs": [],
   "source": [
    "def partition_around_pivot(head, pivot_value):\n",
    "    new_head = None\n",
    "    cursor = new_head\n",
    "    \n",
    "    iterator = head\n",
    "    \n",
    "    while iterator:\n",
    "        if iterator.value < pivot_value:\n",
    "            temp = Node(iterator.value)\n",
    "            \n",
    "            if not new_head:\n",
    "                new_head = temp\n",
    "                cursor = new_head\n",
    "            else:\n",
    "                temp.next = new_head\n",
    "                new_head = temp\n",
    "        else:\n",
    "            temp = Node(iterator.value)\n",
    "            \n",
    "            if not new_head:\n",
    "                new_head = temp\n",
    "                cursor = new_head\n",
    "            else:\n",
    "                cursor.next = temp\n",
    "                cursor = temp\n",
    "        \n",
    "        iterator = iterator.next\n",
    "    \n",
    "    # Can return the new_head now. But wrapping the linked list with\n",
    "    # SinglyLinkedList to keep consistency with previous function.\n",
    "    new_list = SinglyLinkedList()\n",
    "    while new_head:\n",
    "        new_list.add(new_head.value)\n",
    "        new_head = new_head.next\n",
    "    \n",
    "    return new_list"
   ]
  },
  {
   "cell_type": "code",
   "execution_count": 10,
   "metadata": {},
   "outputs": [
    {
     "name": "stdout",
     "output_type": "stream",
     "text": [
      "[2, 5, 23, 6, 10, 8, 65, 54, 4, 80]\n",
      "[4, 6, 5, 2, 23, 10, 8, 65, 54, 80]\n"
     ]
    }
   ],
   "source": [
    "print(linked_list.to_list())\n",
    "print(partition_around_pivot(linked_list._head, 8).to_list())"
   ]
  }
 ],
 "metadata": {
  "kernelspec": {
   "display_name": "gen",
   "language": "python",
   "name": "python3"
  },
  "language_info": {
   "codemirror_mode": {
    "name": "ipython",
    "version": 3
   },
   "file_extension": ".py",
   "mimetype": "text/x-python",
   "name": "python",
   "nbconvert_exporter": "python",
   "pygments_lexer": "ipython3",
   "version": "3.8.13"
  },
  "orig_nbformat": 4
 },
 "nbformat": 4,
 "nbformat_minor": 2
}

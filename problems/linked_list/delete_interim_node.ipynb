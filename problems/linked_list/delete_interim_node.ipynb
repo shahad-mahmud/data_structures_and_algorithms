{
 "cells": [
  {
   "attachments": {},
   "cell_type": "markdown",
   "metadata": {},
   "source": [
    "# The problem\n",
    "\n",
    "Implement an algorithm to delete a node in the middle (i.e., any node but the first and last node, not necessarily the exact middle) of a singly linked list, given only access to that node. \n",
    "\n",
    "Example:\n",
    "Input:the node `c` from the linked list `a->b->c->d->e->f` <br>\n",
    "Result: nothing is returned, but the new linked list looks like `a->b->d->e->f`"
   ]
  },
  {
   "cell_type": "code",
   "execution_count": 1,
   "metadata": {},
   "outputs": [],
   "source": [
    "from linked_list import SinglyLinkedList"
   ]
  },
  {
   "cell_type": "code",
   "execution_count": 2,
   "metadata": {},
   "outputs": [
    {
     "name": "stdout",
     "output_type": "stream",
     "text": [
      "[2, 4, 5, 6, 8, 10, 23, 54, 65, 80]\n"
     ]
    }
   ],
   "source": [
    "linked_list = SinglyLinkedList(2)\n",
    "linked_list.add(4)\n",
    "linked_list.add(5)\n",
    "linked_list.add(6)\n",
    "linked_list.add(8)\n",
    "linked_list.add(10)\n",
    "linked_list.add(23)\n",
    "linked_list.add(54)\n",
    "linked_list.add(65)\n",
    "linked_list.add(80)\n",
    "\n",
    "print(linked_list.to_list())"
   ]
  },
  {
   "attachments": {},
   "cell_type": "markdown",
   "metadata": {},
   "source": [
    "## Approach 1: Iterate (search) and delete\n",
    "\n",
    "Iterate the list and delete the first matching node that is neither the first node nor the last node."
   ]
  },
  {
   "cell_type": "code",
   "execution_count": 3,
   "metadata": {},
   "outputs": [
    {
     "name": "stdout",
     "output_type": "stream",
     "text": [
      "[2, 4, 5, 6, 8, 10, 23, 54, 65, 80]\n",
      "[2, 4, 5, 6, 8, 10, 54, 65, 80]\n",
      "[2, 4, 5, 6, 8, 10, 54, 65, 80]\n",
      "[2, 4, 5, 6, 8, 10, 54, 65, 80]\n",
      "[2, 4, 5, 8, 10, 54, 65, 80]\n"
     ]
    }
   ],
   "source": [
    "def delete_interim_node(head, value):\n",
    "    prev, current = head, head.next\n",
    "    \n",
    "    while current and current.next:\n",
    "        if current.value == value:\n",
    "            prev.next = current.next\n",
    "            break\n",
    "        \n",
    "        prev = prev.next\n",
    "        current = current.next\n",
    "\n",
    "print(linked_list.to_list())\n",
    "\n",
    "delete_interim_node(linked_list._head, 23)\n",
    "print(linked_list.to_list())\n",
    "\n",
    "delete_interim_node(linked_list._head, 80)\n",
    "print(linked_list.to_list())\n",
    "\n",
    "delete_interim_node(linked_list._head, 2)\n",
    "print(linked_list.to_list())\n",
    "\n",
    "delete_interim_node(linked_list._head, 6)\n",
    "print(linked_list.to_list())"
   ]
  }
 ],
 "metadata": {
  "kernelspec": {
   "display_name": "gen",
   "language": "python",
   "name": "python3"
  },
  "language_info": {
   "codemirror_mode": {
    "name": "ipython",
    "version": 3
   },
   "file_extension": ".py",
   "mimetype": "text/x-python",
   "name": "python",
   "nbconvert_exporter": "python",
   "pygments_lexer": "ipython3",
   "version": "3.8.13"
  },
  "orig_nbformat": 4
 },
 "nbformat": 4,
 "nbformat_minor": 2
}

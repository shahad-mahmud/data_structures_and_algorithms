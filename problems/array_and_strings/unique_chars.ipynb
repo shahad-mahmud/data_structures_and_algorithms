{
 "cells": [
  {
   "attachments": {},
   "cell_type": "markdown",
   "metadata": {},
   "source": [
    "# The problem\n",
    "Implement an algorithm to determine if a string has all unique strings."
   ]
  },
  {
   "attachments": {},
   "cell_type": "markdown",
   "metadata": {},
   "source": [
    "## Method 1: Using hashmap\n",
    "Use a hashmap to count the characters. If any character count is more than 1, the string does not contain unique characters."
   ]
  },
  {
   "cell_type": "code",
   "execution_count": 1,
   "metadata": {},
   "outputs": [
    {
     "name": "stdout",
     "output_type": "stream",
     "text": [
      "True\n",
      "True\n",
      "False\n"
     ]
    }
   ],
   "source": [
    "def is_unique(s: str) -> bool:\n",
    "    counter = {}\n",
    "\n",
    "    for c in s:\n",
    "        counter[c] = counter.get(c, 0) + 1\n",
    "\n",
    "        if counter[c] > 1:\n",
    "            return False\n",
    "\n",
    "    return True\n",
    "\n",
    "\n",
    "print(is_unique('Abc'))  # True\n",
    "print(is_unique('Abca'))  # True\n",
    "print(is_unique('Abcab'))  # False\n"
   ]
  },
  {
   "attachments": {},
   "cell_type": "markdown",
   "metadata": {},
   "source": [
    "## Method 2: Using set\n",
    "Initiate a set from the string. Check length of the set and string."
   ]
  },
  {
   "cell_type": "code",
   "execution_count": 2,
   "metadata": {},
   "outputs": [
    {
     "name": "stdout",
     "output_type": "stream",
     "text": [
      "True\n",
      "True\n",
      "False\n"
     ]
    }
   ],
   "source": [
    "def is_unique(s: str) -> bool:\n",
    "    chars = set(s)\n",
    "\n",
    "    return len(chars) == len(s)\n",
    "\n",
    "\n",
    "print(is_unique('Abc'))  # True\n",
    "print(is_unique('Abca'))  # True\n",
    "print(is_unique('Abcab'))  # False\n"
   ]
  },
  {
   "attachments": {},
   "cell_type": "markdown",
   "metadata": {},
   "source": [
    "## Approach 3: Using boolean array\n",
    "If we know that the string will contain only ASCII characters, we can create a boolean array of 128 (or 256 for extended ASCII) with default value `False`. Now iterate the string and set character index to `True`. If we find an index to be set to `True` already, means the string contains duplicate characters."
   ]
  },
  {
   "cell_type": "code",
   "execution_count": 3,
   "metadata": {},
   "outputs": [
    {
     "name": "stdout",
     "output_type": "stream",
     "text": [
      "True\n",
      "True\n",
      "False\n"
     ]
    }
   ],
   "source": [
    "def is_unique(s: str) -> bool:\n",
    "    flags = [False] * 128\n",
    "\n",
    "    for c in s:\n",
    "        if flags[ord(c)]:\n",
    "            return False\n",
    "\n",
    "        flags[ord(c)] = True\n",
    "\n",
    "    return True\n",
    "\n",
    "\n",
    "print(is_unique('Abc'))  # True\n",
    "print(is_unique('Abca'))  # True\n",
    "print(is_unique('Abcab'))  # False\n"
   ]
  },
  {
   "attachments": {},
   "cell_type": "markdown",
   "metadata": {},
   "source": [
    "## Additional problem\n",
    "Do not use any additional data structure.\n",
    "\n",
    "## Approach 4: Naive approach\n",
    "Start iterating the string. Select a character and check the remaining the string if it repeats."
   ]
  },
  {
   "cell_type": "code",
   "execution_count": 4,
   "metadata": {},
   "outputs": [
    {
     "name": "stdout",
     "output_type": "stream",
     "text": [
      "True\n",
      "True\n",
      "False\n"
     ]
    }
   ],
   "source": [
    "def is_unique(s: str) -> bool:\n",
    "    for i in range(len(s)):\n",
    "        for j in range(i+1, len(s)):\n",
    "            if s[i] == s[j]:\n",
    "                return False\n",
    "\n",
    "    return True\n",
    "\n",
    "\n",
    "print(is_unique('Abc'))  # True\n",
    "print(is_unique('Abca'))  # True\n",
    "print(is_unique('Abcab'))  # False\n"
   ]
  }
 ],
 "metadata": {
  "kernelspec": {
   "display_name": "gen",
   "language": "python",
   "name": "python3"
  },
  "language_info": {
   "codemirror_mode": {
    "name": "ipython",
    "version": 3
   },
   "file_extension": ".py",
   "mimetype": "text/x-python",
   "name": "python",
   "nbconvert_exporter": "python",
   "pygments_lexer": "ipython3",
   "version": "3.8.13"
  },
  "orig_nbformat": 4
 },
 "nbformat": 4,
 "nbformat_minor": 2
}

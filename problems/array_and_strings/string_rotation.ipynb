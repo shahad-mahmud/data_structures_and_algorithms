{
 "cells": [
  {
   "attachments": {},
   "cell_type": "markdown",
   "metadata": {},
   "source": [
    "# The problem\n",
    "\n",
    "Assume you have a method `is_substring` which checks if one word is a substring of another. Given two strings, `s1` and `s2`, write code to check if `s2` is a rotation of `s1` using only one call to `is_substring` (e.g., `waterbottle` is a rotation of `erbottlewat`).\n",
    "\n",
    "## Approach\n",
    "\n",
    "If we imagine that s2 is a rotation of s1, then we can ask what the rotation point is. In a rotation, we cut s1 into two parts, x and y, and rearrange them to get s2. So, if `s1 = xy = waterbottle` then `x = wat` and `y = erbottle`. Finally `s2 = yx = erbottlewat`.\n",
    "\n",
    "So, we need to check if there's a way to split s1 into x and y such that `xy = s1` and `yx = s2`. Regardless of where the division between x and y is, we can see that yx will always be a substring of `xyxy`. That is, s2 will always be a substring of s1s1."
   ]
  },
  {
   "cell_type": "code",
   "execution_count": 1,
   "metadata": {},
   "outputs": [
    {
     "name": "stdout",
     "output_type": "stream",
     "text": [
      "True\n",
      "True\n",
      "False\n",
      "False\n"
     ]
    }
   ],
   "source": [
    "def is_rotation(s1: str, s2: str) -> bool:\n",
    "    check_string = s1+s1\n",
    "    \n",
    "    return s2 in check_string\n",
    "\n",
    "print(is_rotation(\"waterbottle\", \"erbottlewat\"))\n",
    "print(is_rotation(\"abcd\", \"cdab\"))\n",
    "print(is_rotation(\"abcd\", \"dcba\"))\n",
    "print(is_rotation(\"xyz\", \"abc\"))"
   ]
  }
 ],
 "metadata": {
  "kernelspec": {
   "display_name": "gen",
   "language": "python",
   "name": "python3"
  },
  "language_info": {
   "codemirror_mode": {
    "name": "ipython",
    "version": 3
   },
   "file_extension": ".py",
   "mimetype": "text/x-python",
   "name": "python",
   "nbconvert_exporter": "python",
   "pygments_lexer": "ipython3",
   "version": "3.8.13"
  },
  "orig_nbformat": 4
 },
 "nbformat": 4,
 "nbformat_minor": 2
}

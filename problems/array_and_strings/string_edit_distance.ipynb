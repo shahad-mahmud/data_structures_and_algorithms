{
 "cells": [
  {
   "attachments": {},
   "cell_type": "markdown",
   "metadata": {},
   "source": [
    "# The problem\n",
    "\n",
    "There are three types of edits that can be performed on strings: insert a character, remove a character, or replace a character. Given two strings, write a function to check if they are one edit (or zero edits) away.\n",
    "\n",
    "**Examples**:\n",
    "pale, ple -> true;\n",
    "pales, pale -> true;\n",
    "pale, bale -> true;\n",
    "pale, bae -> false\n",
    "\n",
    "## Approach 1\n",
    "\n",
    "Check the lengths of the strings. Then pick a suitable edit type.\n"
   ]
  },
  {
   "cell_type": "code",
   "execution_count": 1,
   "metadata": {},
   "outputs": [
    {
     "name": "stdout",
     "output_type": "stream",
     "text": [
      "True\n",
      "True\n",
      "True\n",
      "True\n",
      "False\n",
      "False\n",
      "True\n",
      "False\n"
     ]
    }
   ],
   "source": [
    "def check_replace(s1: str, s2: str) -> bool:\n",
    "    is_replaced = False\n",
    "\n",
    "    for c1, c2 in zip(s1, s2):\n",
    "        if c1 != c2:\n",
    "            if is_replaced:\n",
    "                return False\n",
    "            \n",
    "            is_replaced = True\n",
    "    \n",
    "    return True\n",
    "\n",
    "def check_insert(s1: str, s2: str) -> bool:\n",
    "    i, j = 0, 0\n",
    "    is_inserted = False\n",
    "\n",
    "    while i < len(s1) and j < len(s2):\n",
    "        if s1[i] != s2[j]:\n",
    "            if is_inserted:\n",
    "                return False\n",
    "\n",
    "            j += 1\n",
    "            is_inserted = True\n",
    "        else:\n",
    "            i += 1\n",
    "            j += 1\n",
    "    \n",
    "    return True\n",
    "\n",
    "def edit_distance(s1: str, s2: str) -> bool:\n",
    "    if len(s1) == len(s2):\n",
    "        return check_replace(s1, s2)\n",
    "    elif len(s1) + 1 == len(s2):\n",
    "        return check_insert(s1, s2)\n",
    "    elif len(s1) - 1 == len(s2):\n",
    "        return check_insert(s2, s1)\n",
    "    \n",
    "    return False\n",
    "\n",
    "print(edit_distance(\"pale\", \"ple\"))  # True\n",
    "print(edit_distance(\"ple\", \"pale\"))  # True\n",
    "print(edit_distance(\"pales\", \"pale\"))  # True\n",
    "print(edit_distance(\"apple\", \"pple\"))  # True\n",
    "print(edit_distance(\"abc\", \"xyz\"))  # False\n",
    "print(edit_distance(\"abc\", \"abcdef\"))  # False\n",
    "print(edit_distance(\"pale\", \"bale\"))  # True\n",
    "print(edit_distance(\"pale\", \"bae\"))  # False"
   ]
  },
  {
   "attachments": {},
   "cell_type": "markdown",
   "metadata": {},
   "source": [
    "It takes `O(n)` time, where `n` is the length of shorter string."
   ]
  }
 ],
 "metadata": {
  "kernelspec": {
   "display_name": "gen",
   "language": "python",
   "name": "python3"
  },
  "language_info": {
   "codemirror_mode": {
    "name": "ipython",
    "version": 3
   },
   "file_extension": ".py",
   "mimetype": "text/x-python",
   "name": "python",
   "nbconvert_exporter": "python",
   "pygments_lexer": "ipython3",
   "version": "3.8.13"
  },
  "orig_nbformat": 4
 },
 "nbformat": 4,
 "nbformat_minor": 2
}

{
 "cells": [
  {
   "attachments": {},
   "cell_type": "markdown",
   "metadata": {},
   "source": [
    "# URLify\n",
    "\n",
    "Write a method to replace all spaces in a string with `%20`. You may assume that the string has sufficient space at the end to hold the additional characters, and that you are given the \"true\" length of the string.\n",
    "\n",
    "Sample input: \"Mr John Smith \", 13 \n",
    "Sample output: \"Mr%20John%20Smith\""
   ]
  },
  {
   "attachments": {},
   "cell_type": "markdown",
   "metadata": {},
   "source": [
    "## Approach 1\n",
    "\n",
    "Take a two pass approach. In the first pass, calculate how many space there are in the given string. In the second pass, actually modify the string to fit the additional characters."
   ]
  },
  {
   "cell_type": "code",
   "execution_count": 1,
   "metadata": {},
   "outputs": [
    {
     "name": "stdout",
     "output_type": "stream",
     "text": [
      "https://amar.com/%20ki%20kno%20kivabe\n",
      "https://fb.com/rashed%20kabir\n",
      "https://xyz.com/%20hello%20world\n",
      "https://abcd.com\n"
     ]
    }
   ],
   "source": [
    "from typing import Tuple, List\n",
    "\n",
    "def urlify(s: Tuple[str, List[str]], l: int) -> str:\n",
    "    if isinstance(s, str):\n",
    "        s = list(s)\n",
    "    \n",
    "    n_spaces = 0\n",
    "    for i in range(l):\n",
    "        if s[i] == ' ':\n",
    "            n_spaces += 1\n",
    "    \n",
    "    index = (l + 2 * n_spaces) - 1\n",
    "    for i in range(l-1, -1, -1):\n",
    "        if s[i] == ' ':\n",
    "            s[index] = '0'\n",
    "            s[index-1] = '2'\n",
    "            s[index-2] = '%'\n",
    "            \n",
    "            index -= 3\n",
    "        else:\n",
    "            s[index] = s[i]\n",
    "            index -= 1\n",
    "\n",
    "    return ''.join(s)\n",
    "\n",
    "print(urlify(\"https://amar.com/ ki kno kivabe      \", 31))\n",
    "print(urlify(\"https://fb.com/rashed kabir  \", 27))\n",
    "print(urlify(\"https://xyz.com/ hello world    \", 28))\n",
    "print(urlify(\"https://abcd.com\", 16))"
   ]
  }
 ],
 "metadata": {
  "kernelspec": {
   "display_name": "gen",
   "language": "python",
   "name": "python3"
  },
  "language_info": {
   "codemirror_mode": {
    "name": "ipython",
    "version": 3
   },
   "file_extension": ".py",
   "mimetype": "text/x-python",
   "name": "python",
   "nbconvert_exporter": "python",
   "pygments_lexer": "ipython3",
   "version": "3.8.13"
  },
  "orig_nbformat": 4
 },
 "nbformat": 4,
 "nbformat_minor": 2
}
